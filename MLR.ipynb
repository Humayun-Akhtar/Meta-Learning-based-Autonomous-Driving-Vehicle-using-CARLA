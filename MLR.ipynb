{
  "nbformat": 4,
  "nbformat_minor": 0,
  "metadata": {
    "colab": {
      "provenance": []
    },
    "kernelspec": {
      "name": "python3",
      "display_name": "Python 3"
    },
    "language_info": {
      "name": "python"
    }
  },
  "cells": [
    {
      "cell_type": "code",
      "execution_count": null,
      "metadata": {
        "id": "OW5KJ62NCtyT"
      },
      "outputs": [],
      "source": [
        "import pandas as pd\n",
        "import matplotlib.pyplot as plt\n",
        "import numpy as np\n",
        "import seaborn as sns\n",
        "import random\n",
        "import math\n",
        "from sklearn.model_selection import train_test_split\n",
        "%matplotlib inline\n",
        "#Importing the libraries"
      ]
    },
    {
      "cell_type": "code",
      "source": [
        "#Importing the data and reading it in input and outut variables\n",
        "raw_data = pd.read_csv('ALR.csv')\n",
        "y=pd.DataFrame(raw_data,columns=['Daily costs, $'])\n",
        "x1=pd.DataFrame(raw_data, columns=['Inputs','Unnamed: 1'])\n",
        "# Dropping the header row to convert data into only numbers \n",
        "x1=x1.drop(0)\n",
        "x1=x1.drop(1).astype(int)\n",
        "y=y.drop(0)\n",
        "y=y.drop(1).astype(float)\n",
        "ones=np.ones((len(x1),1))\n",
        "x=np.append(ones, x1, axis=1)"
      ],
      "metadata": {
        "id": "k3U9g0kPZFYf"
      },
      "execution_count": null,
      "outputs": []
    },
    {
      "cell_type": "code",
      "source": [
        "def coeffs(x,y):\n",
        "  x_t=np.transpose(x)\n",
        "  beta = np.dot((np.linalg.inv(np.dot(x_t,x))), np.dot(x_t,y))\n",
        "  return beta "
      ],
      "metadata": {
        "id": "pDOuG5t8ZUwF"
      },
      "execution_count": null,
      "outputs": []
    },
    {
      "cell_type": "code",
      "source": [
        "def metrics_train(a, b):  \n",
        "    #calculating root mean square error\n",
        "    MSE = np.square(np.subtract(b,a)).mean() \n",
        "    rmse = math.sqrt(MSE)\n",
        "    return rmse"
      ],
      "metadata": {
        "id": "ASo4emUHosg6"
      },
      "execution_count": null,
      "outputs": []
    },
    {
      "cell_type": "code",
      "source": [
        "def metrics_test(a,b):\n",
        "   #calculating mean absolute error\n",
        "    mae = np.mean(np.abs(a-b))\n",
        "    #calculating r_square\n",
        "    rss = np.sum(np.square((b- a)))\n",
        "    mean = np.mean(b)\n",
        "    sst = np.sum(np.square(b-mean))\n",
        "    r_square = 1 - (rss/sst)\n",
        "    return mae, r_square"
      ],
      "metadata": {
        "id": "SbtIRHCW7tSR"
      },
      "execution_count": null,
      "outputs": []
    },
    {
      "cell_type": "code",
      "source": [
        "def regression(x,y):\n",
        "  x_train, x_test, y_train, y_test = train_test_split(x,y,test_size=0.2)\n",
        "  beta=coeffs(x_train,y_train)\n",
        "  y_train_predict=np.dot(x_train,beta)\n",
        "  y_test_predict=np.dot(x_test,beta)\n",
        "  rmse=metrics_train(y_train_predict,y_train)\n",
        "  mae, r_square=metrics_test(y_test_predict,y_test)\n",
        "  \n",
        "  return beta, mae, rmse, r_square, y_train_predict, y_train"
      ],
      "metadata": {
        "id": "wCFJMMjMnNvh"
      },
      "execution_count": null,
      "outputs": []
    },
    {
      "cell_type": "code",
      "source": [
        "beta, mae, rmse, r_square, y_train_predict, y_train=regression(x,y)\n",
        "print(\"Coefficients \", beta)\n",
        "print(\"Mean Absolute Error: \", mae[0])\n",
        "print(\"Root Mean Square Error: \", rmse)\n",
        "print(\"R square: \", r_square[0])"
      ],
      "metadata": {
        "colab": {
          "base_uri": "https://localhost:8080/"
        },
        "id": "B8omenfwqDLv",
        "outputId": "ee97adca-7efa-4c0f-eb6f-003cb061896f"
      },
      "execution_count": null,
      "outputs": [
        {
          "output_type": "stream",
          "name": "stdout",
          "text": [
            "Coefficients  [[ 8.36626724e+02]\n",
            " [ 1.52346608e+00]\n",
            " [-3.47607902e-01]]\n",
            "Mean Absolute Error:  4.03886887277759\n",
            "Root Mean Square Error:  5.126715249022608\n",
            "R square:  0.7336068805357521\n"
          ]
        }
      ]
    },
    {
      "cell_type": "code",
      "source": [
        "from sklearn.metrics import confusion_matrix,ConfusionMatrixDisplay\n",
        "y_true= (np.array(y_train))/10\n",
        "y_train_predict=y_train_predict/10\n",
        "cm =confusion_matrix(y_true.astype(int), y_train_predict.astype(int))\n",
        "disp = ConfusionMatrixDisplay(confusion_matrix=cm)\n",
        "disp.plot()\n",
        "plt.show()\n",
        "print(cm)"
      ],
      "metadata": {
        "colab": {
          "base_uri": "https://localhost:8080/",
          "height": 370
        },
        "id": "G6bbHGTa10lA",
        "outputId": "c1ffcc86-d082-4a09-9869-127cc7b137aa"
      },
      "execution_count": null,
      "outputs": [
        {
          "output_type": "display_data",
          "data": {
            "image/png": "[encoded data removed]",
            "text/plain": [
              "<Figure size 432x288 with 2 Axes>"
            ]
          },
          "metadata": {
            "needs_background": "light"
          }
        },
        {
          "output_type": "stream",
          "name": "stdout",
          "text": [
            "[[ 0  3  0  0  0]\n",
            " [ 0  7  8  0  0]\n",
            " [ 0  5 18  3  0]\n",
            " [ 0  0  6 16  5]\n",
            " [ 0  0  1  7  7]]\n"
          ]
        }
      ]
    }
  ]
}
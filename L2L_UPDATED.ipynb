{
 "cells": [
  {
   "cell_type": "code",
   "execution_count": null,
   "id": "1a28ce74",
   "metadata": {},
   "outputs": [],
   "source": [
    "import learn2learn as l2l\n",
    "import torch\n",
    "import torch.nn as nn\n",
    "import torch.optim as optim\n",
    "\n",
    "# Assuming you have defined CarlaEnvironment, NeuralNetwork classes, and related functions\n",
    "\n",
    "def train_maml_carla(env, model, state_dim, action_dim, n_iters=1000, meta_lr=1e-3, inner_lr=1e-4, inner_loop_steps=5):\n",
    "    maml = l2l.algorithms.MAML(model, lr=inner_lr)\n",
    "    meta_optimizer = optim.Adam(maml.parameters(), lr=meta_lr)\n",
    "\n",
    "    weather_conditions = [carla.WeatherParameters.ClearNoon, carla.WeatherParameters.CloudyNoon, carla.WeatherParameters.WetNoon,\n",
    "                          carla.WeatherParameters.WetCloudyNoon, carla.WeatherParameters.MidRainyNoon, carla.WeatherParameters.HardRainNoon]\n",
    "\n",
    "    for iteration in range(n_iters):\n",
    "        # Randomly choose a weather condition for training\n",
    "        train_weather = random.choice(weather_conditions)\n",
    "        env.set_weather(train_weather)\n",
    "\n",
    "        # Sample trajectories for training\n",
    "        train_trajectories, train_state_tensors, train_action_tensors = sample_trajectories(env, maml)\n",
    "\n",
    "        # Train on the sampled trajectories\n",
    "        for _ in range(inner_loop_steps):\n",
    "            clone = maml.clone()\n",
    "            error = nn.MSELoss()(clone(torch.stack(train_state_tensors)), torch.stack(train_action_tensors))\n",
    "            clone.adapt(error)\n",
    "\n",
    "        # Randomly choose a new weather condition for validation\n",
    "        validation_weather = random.choice(weather_conditions)\n",
    "        env.set_weather(validation_weather)\n",
    "\n",
    "        # Sample trajectories for validation\n",
    "        validation_trajectories, validation_state_tensors, validation_action_tensors = sample_trajectories(env, maml)\n",
    "\n",
    "        # Evaluate the adapted model on the validation data\n",
    "        error = nn.MSELoss()(clone(torch.stack(validation_state_tensors)), torch.stack(validation_action_tensors))\n",
    "        error.backward()\n",
    "\n",
    "        # Update the meta-optimizer\n",
    "        meta_optimizer.step()\n",
    "        meta_optimizer.zero_grad()\n",
    "\n",
    "        if iteration % 100 == 0:\n",
    "            print(\"Iteration: \", iteration)\n",
    "\n",
    "if __name__ == '__main__':\n",
    "    # Set up the CARLA environment, NeuralNetwork, and other necessary variables\n",
    "    # ...\n",
    "\n",
    "    train_maml_carla(env, model, state_dim, action_dim)\n"
   ]
  },
  {
   "cell_type": "code",
   "execution_count": null,
   "id": "10989fda",
   "metadata": {},
   "outputs": [],
   "source": [
    "import torch\n",
    "import torch.nn as nn\n",
    "\n",
    "class GaussianPolicy(nn.Module):\n",
    "    def __init__(self, state_dim, action_dim):\n",
    "        super(GaussianPolicy, self).__init__()\n",
    "        self.fc1 = nn.Linear(state_dim, 64)\n",
    "        self.fc2 = nn.Linear(64, 64)\n",
    "        self.mu_head = nn.Linear(64, action_dim)\n",
    "        self.log_std_head = nn.Linear(64, action_dim)\n",
    "\n",
    "    def forward(self, state):\n",
    "        x = torch.relu(self.fc1(state))\n",
    "        x = torch.relu(self.fc2(x))\n",
    "        mu = self.mu_head(x)\n",
    "        log_std = self.log_std_head(x)\n",
    "        return mu, log_std\n",
    "\n",
    "policy = GaussianPolicy(state_dim, action_dim)\n"
   ]
  },
  {
   "cell_type": "code",
   "execution_count": null,
   "id": "b1d3624b",
   "metadata": {},
   "outputs": [],
   "source": [
    "import torch.distributions as td\n",
    "\n",
    "def compute_log_probs(policy, states, actions):\n",
    "    states = torch.stack(states)\n",
    "    actions = torch.stack(actions)\n",
    "    mu, log_std = policy(states)\n",
    "    std = log_std.exp()\n",
    "    normal_dist = td.Normal(mu, std)\n",
    "    log_probs = normal_dist.log_prob(actions).sum(dim=-1)\n",
    "    return log_probs\n"
   ]
  },
  {
   "cell_type": "code",
   "execution_count": null,
   "id": "39ba276b",
   "metadata": {},
   "outputs": [],
   "source": [
    "def policy_loss(log_probs, rewards, gamma=0.99):\n",
    "    discounted_rewards = []\n",
    "    cumulative_reward = 0\n",
    "    for reward in reversed(rewards):\n",
    "        cumulative_reward = reward + gamma * cumulative_reward\n",
    "        discounted_rewards.insert(0, cumulative_reward)\n",
    "    discounted_rewards = torch.tensor(discounted_rewards)\n",
    "    loss = -torch.mean(log_probs * discounted_rewards)\n",
    "    return loss\n"
   ]
  },
  {
   "cell_type": "code",
   "execution_count": null,
   "id": "d99f9da0",
   "metadata": {},
   "outputs": [],
   "source": [
    "def policy_loss(log_probs, rewards, gamma=0.99):\n",
    "    discounted_rewards = []\n",
    "    cumulative_reward = 0\n",
    "    for reward in reversed(rewards):\n",
    "        cumulative_reward = reward + gamma * cumulative_reward\n",
    "        discounted_rewards.insert(0, cumulative_reward)\n",
    "    discounted_rewards = torch.tensor(discounted_rewards)\n",
    "    loss = -torch.mean(log_probs * discounted_rewards)\n",
    "    return loss\n"
   ]
  }
 ],
 "metadata": {
  "kernelspec": {
   "display_name": "Python 3 (ipykernel)",
   "language": "python",
   "name": "python3"
  },
  "language_info": {
   "codemirror_mode": {
    "name": "ipython",
    "version": 3
   },
   "file_extension": ".py",
   "mimetype": "text/x-python",
   "name": "python",
   "nbconvert_exporter": "python",
   "pygments_lexer": "ipython3",
   "version": "3.8.10"
  }
 },
 "nbformat": 4,
 "nbformat_minor": 5
}
